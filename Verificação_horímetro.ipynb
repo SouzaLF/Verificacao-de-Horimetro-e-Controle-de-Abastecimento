{
  "nbformat": 4,
  "nbformat_minor": 0,
  "metadata": {
    "colab": {
      "provenance": []
    },
    "kernelspec": {
      "name": "python3",
      "display_name": "Python 3"
    },
    "language_info": {
      "name": "python"
    }
  },
  "cells": [
    {
      "cell_type": "code",
      "execution_count": null,
      "metadata": {
        "id": "ICeM67Z2YEc1"
      },
      "outputs": [],
      "source": [
        "import pandas as pd\n",
        "import warnings\n",
        "from datetime import datetime\n",
        "warnings.simplefilter(\"ignore\")"
      ]
    },
    {
      "cell_type": "markdown",
      "source": [
        "- ## VERIFICAÇÃO HORÍMETRO"
      ],
      "metadata": {
        "id": "zWj4UCkeQ3fW"
      }
    },
    {
      "cell_type": "code",
      "source": [
        "#Entrada da base\n",
        "Dados1 = pd.read_excel('/content/APONTAMENTOS.xlsx')\n",
        "\n",
        "Dados1['QTD'] = Dados1['QTD'].replace({',': '.'}, regex=True)\n",
        "Dados1['NO_HOR_ODOM'] = Dados1['NO_HOR_ODOM'].replace({',': '.'}, regex=True)\n",
        "Dados1['KM'] = Dados1['KM'].replace({',': '.'}, regex=True)\n",
        "\n",
        "#Substituir deslocamentos vazios\n",
        "Dados1['KM'] = Dados1['KM'].fillna(0)\n",
        "Dados1['QTD'] = Dados1['QTD'].fillna(0)\n",
        "\n",
        "Dados = Dados1\n",
        "\n",
        "#Pré-processamento (Filtro 'HR' | Conversão coluna KM e Unidade)\n",
        "Dados['KM'] = Dados['KM'].astype('float64')\n",
        "Dados['QTD'] = Dados['QTD'].astype('float64')\n",
        "Dados['FROTA'] = Dados['FROTA'].astype('int64')\n",
        "Dados['TIPO_RODADO'] = Dados['TIPO_RODADO'].astype('string')\n",
        "\n",
        "#Filtrar equipamentos HR\n",
        "Dados = Dados[Dados['TIPO_RODADO']=='HR']\n",
        "\n",
        "#Tratamento da coluna data\n",
        "lista_data1 = []\n",
        "for k in Dados['HR_OPERACAO']:\n",
        "  k = str(k)\n",
        "  convert = k.split()\n",
        "  parameter = 'j'\n",
        "  if int(len(convert))<2:\n",
        "    lista_data1.append((str(convert[0]))+\"  00:00:00\")\n",
        "    parameter = 'i'\n",
        "  if int(len(convert))>=2 and parameter=='j':\n",
        "    lista_data1.append(\" \".join(str(k).split()))\n",
        "\n",
        "Dados['HR_OPERACAO'] = lista_data1\n",
        "Dados['HR_OPERACAO']  = pd.to_datetime(Dados['HR_OPERACAO'], format='%d/%m/%Y %H:%M:%S')\n",
        "\n",
        "#Uso no duplicado\n",
        "Dados123 = Dados\n",
        "\n",
        "#Ordenando os valores por FROTA e Horas\n",
        "Dados = Dados.sort_values(['FROTA', 'HR_OPERACAO']).reset_index(drop=True)\n",
        "\n",
        "D_1 = list(Dados['NO_HOR_ODOM'])\n",
        "if len(D_1)>0:\n",
        "  del D_1[0]\n",
        "  D_1.append('0')\n",
        "  Dados['NO_HOR_ODOM_D1'] = D_1\n",
        "  Dados['NO_HOR_ODOM'] = Dados['NO_HOR_ODOM'].astype('float64')\n",
        "  Dados['NO_HOR_ODOM_D1'] = Dados['NO_HOR_ODOM_D1'].astype('float64')\n",
        "  Dados['Erro1'] = Dados['NO_HOR_ODOM_D1']-Dados['NO_HOR_ODOM']\n",
        "  y = 1\n",
        "\n",
        "Dados['Observação'] = ''\n",
        "if y == 1:\n",
        "  Dados.loc[((Dados['Erro1'])<=0) & (Dados['Observação']==''), 'Observação'] = \"Erro 1: Horímetro apontado fora de sequência\"\n",
        "  # Dados.loc[((Dados['KM'])>=24) & (Dados['Observação']=='-'), 'Observação'] = \"Erro 2: Horas trabalhadas maior que o limite diário\"\n",
        "  y=0\n",
        "\n",
        "Result_HR = Dados[['INSTANCIA', 'PONTO', 'BOLETIM', 'FROTA', 'MARCA', 'MODELO', 'CATEGORIA', 'MATRICULA', 'OPERADOR', 'CARGO', 'HR_OPERACAO', 'MES', 'ANO', 'CD_MATERIAL', 'COMBUSTIVEL', 'OPER', 'OPERACAO', 'TIPO_RODADO', 'QTD', 'NO_HOR_ODOM', 'KM', 'Observação']]\n",
        "\n",
        "########################||###########################\n",
        "\n",
        "#Entrada da base\n",
        "Dados2 = Dados1\n",
        "\n",
        "#Pré-processamento (Filtro 'HR' | Conversão coluna KM e Unidade)\n",
        "Dados2['KM'] = Dados2['KM'].astype('float64')\n",
        "Dados2['QTD'] = Dados2['QTD'].astype('float64')\n",
        "Dados2['FROTA'] = Dados2['FROTA'].astype('int64')\n",
        "Dados2['TIPO_RODADO'] = Dados2['TIPO_RODADO'].astype('string')\n",
        "\n",
        "#Filtrar equipamentos HR\n",
        "Dados2 = Dados2[Dados2['TIPO_RODADO']=='KM']\n",
        "\n",
        "#Tratamento da coluna data\n",
        "lista_data = []\n",
        "for i in Dados2['HR_OPERACAO']:\n",
        "  i = str(i)\n",
        "  convert = i.split()\n",
        "  parameter = 'j'\n",
        "  if int(len(convert))<2:\n",
        "    lista_data.append(str(str(convert[0])+\"  00:00:00\"))\n",
        "    parameter = 'i'\n",
        "  if int(len(convert))>=2 and parameter=='j':\n",
        "    lista_data.append(\" \".join(str(i).split()))\n",
        "\n",
        "Dados2['HR_OPERACAO'] = lista_data\n",
        "Dados2['HR_OPERACAO']  = pd.to_datetime(Dados2['HR_OPERACAO'], format='%d/%m/%Y %H:%M:%S', infer_datetime_format=True)\n",
        "\n",
        "#Ordenando os valores por FROTA e Horas\n",
        "Dados2 = Dados2.sort_values(['FROTA', 'HR_OPERACAO']).reset_index(drop=True)\n",
        "\n",
        "#Encontrando a diferença entre horímetro anterior e posterior\n",
        "D_2 = list(Dados2['NO_HOR_ODOM'])\n",
        "if len(D_2)>0:\n",
        "  del D_2[0]\n",
        "  D_2.append('0')\n",
        "\n",
        "  Dados2['NO_HOR_ODOM_D1'] = D_2\n",
        "  Dados2['NO_HOR_ODOM'] = Dados2['NO_HOR_ODOM'].astype('float64')\n",
        "  Dados2['NO_HOR_ODOM_D1'] = Dados2['NO_HOR_ODOM_D1'].astype('float64')\n",
        "  Dados2['Erro1'] = Dados2['NO_HOR_ODOM_D1']-Dados2['NO_HOR_ODOM']\n",
        "  x = 1\n",
        "\n",
        "Dados2['Observação'] = ''\n",
        "if y == 1:\n",
        "  Dados2.loc[((Dados2['Erro1'])<=0) & (Dados2['Observação']==''), 'Observação'] = \"Erro 1: Horímetro apontado fora de sequência\"\n",
        "  # Dados2.loc[((Dados2['KM'])>=1000) & (Dados2['Observação']=='-'), 'Observação'] = \"Erro 2: Horas trabalhadas maior que o limite diário estabelecido\"\n",
        "  y=0\n",
        "\n",
        "Result_KM = Dados2[['INSTANCIA', 'PONTO', 'BOLETIM', 'FROTA', 'MARCA', 'MODELO', 'CATEGORIA', 'MATRICULA', 'OPERADOR', 'CARGO', 'HR_OPERACAO', 'MES', 'ANO', 'CD_MATERIAL', 'COMBUSTIVEL', 'OPER', 'OPERACAO', 'TIPO_RODADO', 'QTD', 'NO_HOR_ODOM', 'KM', 'Observação']]\n",
        "\n",
        "#Unindo os dois dataframes resultantes\n",
        "frames = [Result_HR, Result_KM]\n",
        "result = pd.concat(frames)\n",
        "\n",
        "# Ordenando os valores por FROTA e Horímetro\n",
        "result = result.sort_values(['FROTA', 'HR_OPERACAO']).reset_index(drop=True)\n",
        "\n",
        "#Removendo frotas avulsas e ferramentas manuais\n",
        "values1=['LOCACAO AVULSA (KM)', 'LOCACAO AVULSA (HR)']\n",
        "values2=['FERRAMENTAS MANUAIS']\n",
        "values3=['BD-700','BDA-18.ORAE','B4T-706E', 'B4T-707 PA', 'BDA-22.0RAE', 'X14000', 'TG15000CXE3-XP', 'B4T-12000 E']\n",
        "result = result[~result.CATEGORIA.isin(values1)]\n",
        "result = result[~result.OPERACAO.isin(values2)]\n",
        "result = result[~result.MODELO.isin(values3)]\n",
        "result['HR_OPERACAO'] = result['HR_OPERACAO'].dt.strftime('%d/%m/%Y %H:%M:%S')\n",
        "\n",
        "\n",
        "#Limpando observações desnecessárias na mudança de frota\n",
        "lista_frotas = list(result['FROTA'])\n",
        "del lista_frotas[0]\n",
        "lista_frotas.append(0)\n",
        "result['FROTA_VERIFICAR'] = lista_frotas\n",
        "result.loc[((result['FROTA'])!=(result['FROTA_VERIFICAR'])) & (result['Observação']==\"Erro 1: Horímetro apontado fora de sequência\"), 'Observação'] = \"\"\n",
        "\n",
        "#Selecionando as colunas\n",
        "result = result[['INSTANCIA', 'PONTO', 'BOLETIM', 'FROTA', 'MARCA', 'MODELO', 'CATEGORIA', 'MATRICULA', 'OPERADOR', 'CARGO', 'HR_OPERACAO', 'MES', 'ANO', 'CD_MATERIAL', 'COMBUSTIVEL', 'OPER', 'OPERACAO', 'TIPO_RODADO', 'QTD', 'NO_HOR_ODOM', 'KM', 'Observação']]\n",
        "\n",
        "# Salvar planilha Result\n",
        "result.to_excel('/content/Correção_de_horímetros.xlsx', index = False)"
      ],
      "metadata": {
        "id": "ANSnRusEYeXo"
      },
      "execution_count": null,
      "outputs": []
    },
    {
      "cell_type": "markdown",
      "source": [
        "- ## Verificação abastecimentos em outras unidades"
      ],
      "metadata": {
        "id": "5DB-MkOoQ7De"
      }
    },
    {
      "cell_type": "code",
      "source": [
        "#Frotas que abastecem em outras unidades\n",
        "frotas = list(Dados1['FROTA'].unique())\n",
        "frotas_estranhas = []\n",
        "\n",
        "for i in frotas:\n",
        "  dados_frotas = Dados1[Dados1['FROTA']==i]\n",
        "  if len(dados_frotas['INSTANCIA'].unique())>2:\n",
        "    frotas_estranhas.append(i)\n",
        "Divergentes = Dados1.loc[Dados1['FROTA'].isin(frotas_estranhas)]\n",
        "Divergentes = Divergentes[['INSTANCIA', 'PONTO', 'BOLETIM', 'FROTA', 'MARCA', 'MODELO', 'CATEGORIA', 'MATRICULA', 'OPERADOR', 'CARGO', 'HR_OPERACAO', 'MES', 'ANO', 'CD_MATERIAL', 'COMBUSTIVEL', 'OPER', 'OPERACAO', 'TIPO_RODADO', 'QTD', 'NO_HOR_ODOM', 'KM']]\n",
        "filter=['CARRO', 'LOCACAO AVULSA (KM)', 'LOCACAO AVULSA (HR)']\n",
        "Divergentes = Divergentes[~Divergentes.CATEGORIA.isin(filter)]\n",
        "if len(Divergentes)>0:\n",
        "  Divergentes.to_excel('/content/Instancias_divergentes.xlsx', index = False)"
      ],
      "metadata": {
        "id": "IZpO6qkvjwNY"
      },
      "execution_count": null,
      "outputs": []
    },
    {
      "cell_type": "markdown",
      "source": [
        "- ## Abastecimentos duplicados"
      ],
      "metadata": {
        "id": "ReXAg1QoRCPF"
      }
    },
    {
      "cell_type": "code",
      "source": [
        "#Abastecimentos duplicados\n",
        "Dados123 = pd.read_excel('/content/Abast_07.xlsx')\n",
        "\n",
        "Dados123['QTD'] = Dados123['QTD'].replace({',': '.'}, regex=True)\n",
        "Dados123['NO_HOR_ODOM'] = Dados123['NO_HOR_ODOM'].replace({',': '.'}, regex=True)\n",
        "Dados123['KM'] = Dados123['KM'].replace({',': '.'}, regex=True)\n",
        "\n",
        "#Substituir deslocamentos vazios\n",
        "Dados123['KM'] = Dados123['KM'].fillna(0)\n",
        "Dados123['QTD'] = Dados123['QTD'].fillna(0)\n",
        "\n",
        "#Pré-processamento (Filtro 'HR' | Conversão coluna KM e Unidade)\n",
        "Dados123['KM'] = Dados123['KM'].astype('float64')\n",
        "Dados123['QTD'] = Dados123['QTD'].astype('float64')\n",
        "Dados123['FROTA'] = Dados123['FROTA'].astype('int64')\n",
        "Dados123['TIPO_RODADO'] = Dados123['TIPO_RODADO'].astype('string')\n",
        "\n",
        "# Dados123['HR_OPERACAO'] = Dados123['HR_OPERACAO'].dt.strftime(\"%d/%m/%Y %H\")\n",
        "duplicados = Dados123[Dados123.duplicated(subset=['FROTA', 'HR_OPERACAO', 'CD_MATERIAL', 'OPER', 'QTD'], keep=False)]\n",
        "duplicados = duplicados.sort_values(['FROTA', 'HR_OPERACAO']).reset_index(drop=True)\n",
        "if len(duplicados)>0:\n",
        "  duplicados.to_excel('/content/Apontamentos_duplicados.xlsx', index = False)"
      ],
      "metadata": {
        "id": "mR4vPqRe5slP"
      },
      "execution_count": null,
      "outputs": []
    }
  ]
}
